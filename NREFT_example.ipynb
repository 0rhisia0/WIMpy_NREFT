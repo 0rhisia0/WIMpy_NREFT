{
 "cells": [
  {
   "cell_type": "markdown",
   "metadata": {},
   "source": [
    "# Examples for WIMpy_NREFT"
   ]
  },
  {
   "cell_type": "markdown",
   "metadata": {},
   "source": [
    "This is an example file to go with the `WIMpy_NREFT` code, available [here](https://github.com/bradkav/WIMpy_NREFT). The main functions are in `DMUtils.py`, which is loaded like this:"
   ]
  },
  {
   "cell_type": "code",
   "execution_count": 1,
   "metadata": {
    "collapsed": true
   },
   "outputs": [],
   "source": [
    "import DMUtils as DMU\n",
    "\n",
    "#We'll also import some useful libraries\n",
    "import numpy as np\n",
    "import matplotlib.pyplot as pl"
   ]
  },
  {
   "cell_type": "markdown",
   "metadata": {},
   "source": [
    "### Loading nuclear form factors"
   ]
  },
  {
   "cell_type": "markdown",
   "metadata": {},
   "source": [
    "We load the NREFT form factor coefficients for the nucleus we're interested in (say Iodine for now) as follows. The form factor coefficients (`FF_I` in this case) are required to calculate the recoil rate."
   ]
  },
  {
   "cell_type": "code",
   "execution_count": 2,
   "metadata": {},
   "outputs": [
    {
     "name": "stdout",
     "output_type": "stream",
     "text": [
      " Loading Form Factor for (A, Z) = (127, 53)...\n"
     ]
    }
   ],
   "source": [
    "A_I = 127 #Nucleon number\n",
    "Z_I = 53 #Atomic number\n",
    "root = \"FormFactors\" #Folder where the form factor files are stored\n",
    "FF_I = DMU.LoadFormFactors(root, A_I, Z_I)"
   ]
  },
  {
   "cell_type": "markdown",
   "metadata": {},
   "source": [
    "### Differential recoil rate"
   ]
  },
  {
   "cell_type": "markdown",
   "metadata": {},
   "source": [
    "Before we calculate the differential recoil rate $\\mathrm{d}R/\\mathrm{d}E_R$, we have to specify the couplings. We do this by defining two vectors of couplings: 1 for the couplings to protons and 1 for the couplings to neutrons. Each vector should have 11 elements (one entry for each of the 11 NREFT operators - note that $\\mathcal{O}_2$ is set to zero by default, but we keep 11 entries so that the numbering matches): "
   ]
  },
  {
   "cell_type": "code",
   "execution_count": 3,
   "metadata": {
    "collapsed": true
   },
   "outputs": [],
   "source": [
    "#Initialise the empty vectors\n",
    "cp = np.zeros(11)\n",
    "cn = np.zeros(11)"
   ]
  },
  {
   "cell_type": "markdown",
   "metadata": {},
   "source": [
    "Let's start with the standard spin-independent interaction (so we want to set the first element $\\mathcal{O}_1$, noting that the numbers of arrays starts from zero in python):"
   ]
  },
  {
   "cell_type": "code",
   "execution_count": 8,
   "metadata": {},
   "outputs": [
    {
     "name": "stdout",
     "output_type": "stream",
     "text": [
      "('Couplings to protons [GeV^{-2}]:', array([ 1.,  0.,  0.,  0.,  0.,  0.,  0.,  0.,  0.,  0.,  0.]))\n",
      "('Couplings to neutrons [GeV^{-2}]:', array([ 1.,  0.,  0.,  0.,  0.,  0.,  0.,  0.,  0.,  0.,  0.]))\n"
     ]
    }
   ],
   "source": [
    "cp[0] = 1.0\n",
    "cn[0] = 1.0\n",
    "print(\"Couplings to protons [GeV^{-2}]:\", cp)\n",
    "print(\"Couplings to neutrons [GeV^{-2}]:\", cn)"
   ]
  },
  {
   "cell_type": "markdown",
   "metadata": {},
   "source": [
    "**Note that the couplings in the NREFT are *dimensionful* and should have units of GeV$^{-2}$**."
   ]
  },
  {
   "cell_type": "markdown",
   "metadata": {},
   "source": [
    "Now let's calculate the differential spectrum for a DM particle of mass 100 GeV:"
   ]
  },
  {
   "cell_type": "code",
   "execution_count": 9,
   "metadata": {
    "collapsed": true
   },
   "outputs": [],
   "source": [
    "m_x = 100 #DM mass in GeV\n",
    "\n",
    "E_list = np.linspace(0, 100, 1000)\n",
    "R_list_SI = E_list*0.0\n",
    "for i, E in enumerate(E_list):\n",
    "    R_list_SI[i] = DMU.dRdE_NREFT(E, A_I, m_x, cp, cn, FF_I) "
   ]
  },
  {
   "cell_type": "markdown",
   "metadata": {},
   "source": [
    "Now let's plot the result, which will be in units of keV$^{-1}$ kg$^{-1}$ day$^{-1}$:"
   ]
  },
  {
   "cell_type": "code",
   "execution_count": 10,
   "metadata": {},
   "outputs": [
    {
     "data": {
      "image/png": "[encoded data removed]",
      "text/plain": [
       "<matplotlib.figure.Figure at 0x10efa4590>"
      ]
     },
     "metadata": {},
     "output_type": "display_data"
    }
   ],
   "source": [
    "pl.figure()\n",
    "pl.plot(E_list, R_list_SI)\n",
    "pl.xlabel(r'$E_R$ [keV]')\n",
    "pl.ylabel(r'$\\mathrm{d}R/\\mathrm{d}E_R$ [keV$^{-1}$ kg$^{-1}$ day$^{-1}$]')\n",
    "pl.title('Standard SI interactions')\n",
    "pl.show()"
   ]
  },
  {
   "cell_type": "markdown",
   "metadata": {},
   "source": [
    "Now let's try something more exotic. Let's just take some random values for all the couplings to protons and neutrons (setting the couplings to $\\mathcal{O}_1$ to zero):"
   ]
  },
  {
   "cell_type": "code",
   "execution_count": 11,
   "metadata": {},
   "outputs": [
    {
     "name": "stdout",
     "output_type": "stream",
     "text": [
      "('Couplings to protons [GeV^{-2}]:', array([ 0.        , -0.3223851 ,  0.00871176,  0.26187702,  0.05221968,\n",
      "        0.3338937 ,  1.0027132 , -0.062095  , -0.17808009, -0.62942429,\n",
      "        0.13214495]))\n",
      "('Couplings to neutrons [GeV^{-2}]:', array([ 0.        ,  0.92944609, -1.56683756,  1.04524646,  0.4023979 ,\n",
      "       -0.03522664,  0.08667453, -2.12023668,  0.8695785 , -0.28509518,\n",
      "        0.05303582]))\n"
     ]
    }
   ],
   "source": [
    "cp_random = np.random.randn(11)\n",
    "cn_random = np.random.randn(11)\n",
    "cp_random[0] = 0\n",
    "cn_random[0] = 0\n",
    "print(\"Couplings to protons [GeV^{-2}]:\", cp_random)\n",
    "print(\"Couplings to neutrons [GeV^{-2}]:\", cn_random)"
   ]
  },
  {
   "cell_type": "markdown",
   "metadata": {},
   "source": [
    "Then let's calculate and plot again:"
   ]
  },
  {
   "cell_type": "code",
   "execution_count": 12,
   "metadata": {},
   "outputs": [],
   "source": [
    "E_list = np.linspace(0, 100, 1000)\n",
    "R_list_random = E_list*0.0\n",
    "for i, E in enumerate(E_list):\n",
    "    R_list_random[i] = DMU.dRdE_NREFT(E, A_I, m_x, cp_random, cn_random, FF_I) "
   ]
  },
  {
   "cell_type": "code",
   "execution_count": 13,
   "metadata": {},
   "outputs": [
    {
     "data": {
      "image/png": "[encoded data removed]",
      "text/plain": [
       "<matplotlib.figure.Figure at 0x1116e4d50>"
      ]
     },
     "metadata": {},
     "output_type": "display_data"
    }
   ],
   "source": [
    "pl.figure()\n",
    "pl.plot(E_list, R_list_random)\n",
    "pl.xlabel(r'$E_R$ [keV]')\n",
    "pl.ylabel(r'$\\mathrm{d}R/\\mathrm{d}E_R$ [keV$^{-1}$ kg$^{-1}$ day$^{-1}$]')\n",
    "pl.title('Random NREFT interactions')\n",
    "pl.show()"
   ]
  },
  {
   "cell_type": "markdown",
   "metadata": {},
   "source": [
    "### Event Rates"
   ]
  },
  {
   "cell_type": "markdown",
   "metadata": {},
   "source": [
    "You can also calculate the total number of events, using `Nevents_NREFT`. You have to specify a minimum and maximum energy, and you can also specify an efficiency function (i.e. the efficiency of the detector as a function of recoil energy) which multiplies the recoil rate:"
   ]
  },
  {
   "cell_type": "code",
   "execution_count": 14,
   "metadata": {
    "collapsed": true
   },
   "outputs": [],
   "source": [
    "Emin = 5 #keV\n",
    "Emax = 50 #keV\n",
    "\n",
    "#Just some made-up efficiency function\n",
    "def efficiency(E_R):\n",
    "    return 0.5/(1 + np.exp(-E_R))\n",
    "\n"
   ]
  },
  {
   "cell_type": "code",
   "execution_count": 15,
   "metadata": {},
   "outputs": [
    {
     "name": "stdout",
     "output_type": "stream",
     "text": [
      "Number of signal events per day per kg of target mass:\n",
      "1.95125821474e-05\n"
     ]
    }
   ],
   "source": [
    "print(\"Number of signal events per day per kg of target mass:\")\n",
    "print(DMU.Nevents_NREFT(Emin, Emax, A_I, m_x, cp_random, cn_random, FF_I, eff=efficiency))"
   ]
  },
  {
   "cell_type": "code",
   "execution_count": null,
   "metadata": {
    "collapsed": true
   },
   "outputs": [],
   "source": []
  }
 ],
 "metadata": {
  "kernelspec": {
   "display_name": "Python 2",
   "language": "python",
   "name": "python2"
  },
  "language_info": {
   "codemirror_mode": {
    "name": "ipython",
    "version": 2
   },
   "file_extension": ".py",
   "mimetype": "text/x-python",
   "name": "python",
   "nbconvert_exporter": "python",
   "pygments_lexer": "ipython2",
   "version": "2.7.12"
  }
 },
 "nbformat": 4,
 "nbformat_minor": 2
}

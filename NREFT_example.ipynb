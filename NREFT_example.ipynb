{
 "cells": [
  {
   "cell_type": "markdown",
   "metadata": {},
   "source": [
    "# Examples for WIMpy_NREFT"
   ]
  },
  {
   "cell_type": "markdown",
   "metadata": {},
   "source": [
    "This is an example file to go with the `WIMpy_NREFT` code, available [here](https://github.com/bradkav/WIMpy_NREFT). The main functions are in `DMUtils.py`, which is loaded like this:"
   ]
  },
  {
   "cell_type": "code",
   "execution_count": 1,
   "metadata": {},
   "outputs": [],
   "source": [
    "import DMUtils as DMU\n",
    "\n",
    "#We'll also import some useful libraries\n",
    "import numpy as np\n",
    "import matplotlib.pyplot as pl\n",
    "\n",
    "from tqdm import tqdm"
   ]
  },
  {
   "cell_type": "code",
   "execution_count": 2,
   "metadata": {},
   "outputs": [
    {
     "name": "stdout",
     "output_type": "stream",
     "text": [
      " No efficiency!\n",
      "0.477956873954\n"
     ]
    }
   ],
   "source": [
    "print DMU.Nevents_standard(2.0, 45.0, 54, 131-54, 50, 1e-46, eff=None)*35636"
   ]
  },
  {
   "cell_type": "markdown",
   "metadata": {},
   "source": [
    "### Loading nuclear form factors"
   ]
  },
  {
   "cell_type": "markdown",
   "metadata": {},
   "source": [
    "We load the NREFT form factor coefficients for the nucleus we're interested in (say Iodine for now) as follows. The form factor coefficients (`FF_I` in this case) are required to calculate the recoil rate."
   ]
  },
  {
   "cell_type": "code",
   "execution_count": 3,
   "metadata": {},
   "outputs": [],
   "source": [
    "A_Xe = 131 #Nucleon number\n",
    "Z_Xe = 54 #Atomic number"
   ]
  },
  {
   "cell_type": "markdown",
   "metadata": {},
   "source": [
    "### Differential recoil rate"
   ]
  },
  {
   "cell_type": "markdown",
   "metadata": {},
   "source": [
    "Before we calculate the differential recoil rate $\\mathrm{d}R/\\mathrm{d}E_R$, we have to specify the couplings. We do this by defining two vectors of couplings: 1 for the couplings to protons and 1 for the couplings to neutrons. Each vector should have 11 elements (one entry for each of the 11 NREFT operators - note that $\\mathcal{O}_2$ is set to zero by default, but we keep 11 entries so that the numbering matches): "
   ]
  },
  {
   "cell_type": "code",
   "execution_count": 4,
   "metadata": {
    "collapsed": true
   },
   "outputs": [],
   "source": [
    "#Initialise the empty vectors\n",
    "cp = np.zeros(11)\n",
    "cn = np.zeros(11)"
   ]
  },
  {
   "cell_type": "markdown",
   "metadata": {},
   "source": [
    "Let's start with the standard spin-independent interaction (so we want to set the first element $\\mathcal{O}_1$, noting that the numbers of arrays starts from zero in python):"
   ]
  },
  {
   "cell_type": "code",
   "execution_count": 5,
   "metadata": {},
   "outputs": [
    {
     "name": "stdout",
     "output_type": "stream",
     "text": [
      "('Couplings to protons [GeV^{-2}]:', array([  1.00000000e-09,   0.00000000e+00,   0.00000000e+00,\n",
      "         0.00000000e+00,   0.00000000e+00,   0.00000000e+00,\n",
      "         0.00000000e+00,   0.00000000e+00,   0.00000000e+00,\n",
      "         0.00000000e+00,   0.00000000e+00]))\n",
      "('Couplings to neutrons [GeV^{-2}]:', array([  1.00000000e-09,   0.00000000e+00,   0.00000000e+00,\n",
      "         0.00000000e+00,   0.00000000e+00,   0.00000000e+00,\n",
      "         0.00000000e+00,   0.00000000e+00,   0.00000000e+00,\n",
      "         0.00000000e+00,   0.00000000e+00]))\n"
     ]
    }
   ],
   "source": [
    "cp[0] = 1e-9\n",
    "cn[0] = 1e-9\n",
    "print(\"Couplings to protons [GeV^{-2}]:\", cp)\n",
    "print(\"Couplings to neutrons [GeV^{-2}]:\", cn)"
   ]
  },
  {
   "cell_type": "markdown",
   "metadata": {},
   "source": [
    "**Note that the couplings in the NREFT are *dimensionful* and should have units of GeV$^{-2}$**."
   ]
  },
  {
   "cell_type": "markdown",
   "metadata": {},
   "source": [
    "Now let's calculate the differential spectrum for a DM particle of mass 100 GeV:"
   ]
  },
  {
   "cell_type": "code",
   "execution_count": 8,
   "metadata": {},
   "outputs": [],
   "source": [
    "m_x = 100 #DM mass in GeV\n",
    "\n",
    "E_list = np.linspace(0, 100, 100)\n",
    "R_list_SI = DMU.dRdE_NREFT(E_list, A_Xe, m_x, cp, cn, \"Xe131\") \n",
    "R_list_SI_check = E_list*0.0\n",
    "for i, E in enumerate(E_list):\n",
    "    R_list_SI_check[i] = DMU.dRdE_NREFT_old(E, A_Xe, m_x, cp, cn, \"Xe131\") "
   ]
  },
  {
   "cell_type": "markdown",
   "metadata": {},
   "source": [
    "Now let's plot the result, which will be in units of keV$^{-1}$ kg$^{-1}$ day$^{-1}$:"
   ]
  },
  {
   "cell_type": "code",
   "execution_count": 19,
   "metadata": {},
   "outputs": [
    {
     "data": {
      "image/png": "[encoded data removed]",
      "text/plain": [
       "<matplotlib.figure.Figure at 0x106a69110>"
      ]
     },
     "metadata": {},
     "output_type": "display_data"
    }
   ],
   "source": [
    "pl.figure()\n",
    "pl.plot(E_list, R_list_SI)\n",
    "pl.plot(E_list, R_list_SI_check, '--', lw=2.0)\n",
    "pl.xlabel(r'$E_R$ [keV]')\n",
    "pl.ylabel(r'$\\mathrm{d}R/\\mathrm{d}E_R$ [keV$^{-1}$ kg$^{-1}$ day$^{-1}$]')\n",
    "pl.title('Standard SI interactions')\n",
    "pl.show()"
   ]
  },
  {
   "cell_type": "markdown",
   "metadata": {},
   "source": [
    "Now let's try something more exotic. Let's just take some random values for all the couplings to protons and neutrons (setting the couplings to $\\mathcal{O}_1$ to zero):"
   ]
  },
  {
   "cell_type": "code",
   "execution_count": 20,
   "metadata": {},
   "outputs": [
    {
     "name": "stdout",
     "output_type": "stream",
     "text": [
      "('Couplings to protons [GeV^{-2}]:', array([ 0.        , -1.5187821 ,  0.98968634, -0.3872456 , -1.38889105,\n",
      "       -0.3276482 ,  0.70074315, -1.00022975, -1.38983766,  0.15498334,\n",
      "       -0.51946192]))\n",
      "('Couplings to neutrons [GeV^{-2}]:', array([ 0.        ,  0.41450731, -1.70537927, -0.63264651, -1.87324776,\n",
      "       -0.2162936 , -0.50787888, -0.28478592,  0.23091695, -0.39240543,\n",
      "        0.49831027]))\n"
     ]
    }
   ],
   "source": [
    "cp_random = np.random.randn(11)\n",
    "cn_random = np.random.randn(11)\n",
    "cp_random[0] = 0\n",
    "cn_random[0] = 0\n",
    "print(\"Couplings to protons [GeV^{-2}]:\", cp_random)\n",
    "print(\"Couplings to neutrons [GeV^{-2}]:\", cn_random)"
   ]
  },
  {
   "cell_type": "markdown",
   "metadata": {},
   "source": [
    "Then let's calculate and plot again:"
   ]
  },
  {
   "cell_type": "code",
   "execution_count": 21,
   "metadata": {},
   "outputs": [
    {
     "name": "stderr",
     "output_type": "stream",
     "text": [
      "100%|██████████| 10/10 [00:04<00:00,  2.14it/s]\n",
      "100%|██████████| 10/10 [00:00<00:00, 249.11it/s]\n"
     ]
    }
   ],
   "source": [
    "E_list = np.linspace(0, 100, 100)\n",
    "\n",
    "N_test = 10\n",
    "\n",
    "#Calculating 1\n",
    "for j in tqdm(range(N_test)):\n",
    "    R_list_random_check = E_list*0.0\n",
    "    for i, E in enumerate(E_list):\n",
    "        R_list_random_check[i] = DMU.dRdE_NREFT_old(E, A_Xe, m_x, cp_random, cn_random, \"Xe131\") \n",
    "\n",
    "for j in tqdm(range(N_test)):\n",
    "    R_list_random = DMU.dRdE_NREFT(E_list, A_Xe, m_x, cp_random, cn_random, \"Xe131\") "
   ]
  },
  {
   "cell_type": "code",
   "execution_count": 23,
   "metadata": {},
   "outputs": [
    {
     "data": {
      "image/png": "[encoded data removed]",
      "text/plain": [
       "<matplotlib.figure.Figure at 0x106db5850>"
      ]
     },
     "metadata": {},
     "output_type": "display_data"
    }
   ],
   "source": [
    "pl.figure()\n",
    "#pl.plot(E_list, R_list_random_check,'--')\n",
    "pl.plot(E_list, R_list_random)\n",
    "pl.xlabel(r'$E_R$ [keV]')\n",
    "pl.ylabel(r'$\\mathrm{d}R/\\mathrm{d}E_R$ [keV$^{-1}$ kg$^{-1}$ day$^{-1}$]')\n",
    "pl.title('Random NREFT interactions')\n",
    "pl.show()"
   ]
  },
  {
   "cell_type": "markdown",
   "metadata": {},
   "source": [
    "### Event Rates"
   ]
  },
  {
   "cell_type": "markdown",
   "metadata": {},
   "source": [
    "You can also calculate the total number of events, using `Nevents_NREFT`. You have to specify a minimum and maximum energy, and you can also specify an efficiency function (i.e. the efficiency of the detector as a function of recoil energy) which multiplies the recoil rate:"
   ]
  },
  {
   "cell_type": "code",
   "execution_count": 16,
   "metadata": {
    "collapsed": true
   },
   "outputs": [],
   "source": [
    "Emin = 5 #keV\n",
    "Emax = 50 #keV\n",
    "\n",
    "#Just some made-up efficiency function\n",
    "def efficiency(E_R):\n",
    "    return 0.5/(1 + np.exp(-E_R))\n",
    "\n"
   ]
  },
  {
   "cell_type": "code",
   "execution_count": 15,
   "metadata": {},
   "outputs": [
    {
     "name": "stdout",
     "output_type": "stream",
     "text": [
      "Number of signal events per day per kg of target mass:\n",
      "1.95125821474e-05\n"
     ]
    }
   ],
   "source": [
    "print(\"Number of signal events per day per kg of target mass:\")\n",
    "print(DMU.Nevents_NREFT(Emin, Emax, A_I, m_x, cp_random, cn_random, FF_I, eff=efficiency))"
   ]
  },
  {
   "cell_type": "code",
   "execution_count": null,
   "metadata": {
    "collapsed": true
   },
   "outputs": [],
   "source": []
  }
 ],
 "metadata": {
  "kernelspec": {
   "display_name": "Python 2",
   "language": "python",
   "name": "python2"
  },
  "language_info": {
   "codemirror_mode": {
    "name": "ipython",
    "version": 2
   },
   "file_extension": ".py",
   "mimetype": "text/x-python",
   "name": "python",
   "nbconvert_exporter": "python",
   "pygments_lexer": "ipython2",
   "version": "2.7.12"
  }
 },
 "nbformat": 4,
 "nbformat_minor": 2
}

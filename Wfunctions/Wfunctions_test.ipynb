{
 "cells": [
  {
   "cell_type": "code",
   "execution_count": 1,
   "metadata": {
    "collapsed": true
   },
   "outputs": [],
   "source": [
    "import numpy as np\n",
    "from matplotlib import pylab as pl"
   ]
  },
  {
   "cell_type": "code",
   "execution_count": 2,
   "metadata": {
    "collapsed": true
   },
   "outputs": [],
   "source": [
    "import WD\n",
    "import WM\n",
    "import WMP2\n",
    "import WP1\n",
    "import WP2\n",
    "import WS1\n",
    "import WS2\n",
    "import WS1D"
   ]
  },
  {
   "cell_type": "code",
   "execution_count": 3,
   "metadata": {},
   "outputs": [
    {
     "name": "stdout",
     "output_type": "stream",
     "text": [
      "This module 'WD' is auto-generated with f2py (version:2).\n",
      "Functions:\n",
      "  wd = calcwd(i,j,y,target)\n",
      ".\n"
     ]
    }
   ],
   "source": [
    "print WD.__doc__"
   ]
  },
  {
   "cell_type": "code",
   "execution_count": 4,
   "metadata": {},
   "outputs": [
    {
     "name": "stdout",
     "output_type": "stream",
     "text": [
      "0.00101607560646\n",
      "0.915474534035\n",
      "0.174012035131\n",
      "9.44748279608e-10\n",
      "0.0331197045743\n",
      "0.000788004428614\n",
      "0.00235111522488\n",
      "-0.000667707354296\n"
     ]
    }
   ],
   "source": [
    "print WD.calcwd(0.1,0.1,1.0,'Xe131')\n",
    "print WM.calcwm(0.1,0.1,1.0,'Xe131')\n",
    "print WMP2.calcwmp2(0.1,0.1,1.0,'Xe131')\n",
    "print WP1.calcwp1(0.1,0.1,1.0,'Xe131')\n",
    "print WP2.calcwp2(0.1,0.1,1.0,'Xe131')\n",
    "print WS1.calcws1(0.1,0.1,1.0,'Xe131')\n",
    "print WS2.calcws2(0.1,0.1,1.0,'Xe131')\n",
    "print WS1D.calcws1d(0.1,0.1,1.0,'Xe131')"
   ]
  },
  {
   "cell_type": "code",
   "execution_count": 10,
   "metadata": {},
   "outputs": [
    {
     "data": {
      "image/png": "[encoded data removed]",
      "text/plain": [
       "<matplotlib.figure.Figure at 0x1186de610>"
      ]
     },
     "metadata": {},
     "output_type": "display_data"
    }
   ],
   "source": [
    "yvals = np.linspace(0, 2,100)\n",
    "\n",
    "pl.figure()\n",
    "pl.plot(yvals, np.vectorize(WD.calcwd)(0.1,0.1,yvals,'Xe131'))\n",
    "pl.plot(yvals, np.vectorize(WM.calcwm)(0.1,0.1,yvals,'Xe131'))\n",
    "pl.plot(yvals, np.vectorize(WMP2.calcwmp2)(0.1,0.1,yvals,'Xe131'))\n",
    "pl.plot(yvals, np.vectorize(WP1.calcwp1)(0.1,0.1,yvals,'Xe131'))\n",
    "pl.plot(yvals, np.vectorize(WP2.calcwp2)(0.1,0.1,yvals,'Iodine'))\n",
    "pl.plot(yvals, np.vectorize(WS1.calcws1)(0.1,0.1,yvals,'Xe131'))\n",
    "pl.plot(yvals, np.vectorize(WS2.calcws2)(0.1,0.1,yvals,'Xe131'))\n",
    "pl.plot(yvals, np.vectorize(WS1D.calcws1d)(0.1,0.1,yvals,'Flourine'))\n",
    "pl.show()"
   ]
  },
  {
   "cell_type": "code",
   "execution_count": null,
   "metadata": {
    "collapsed": true
   },
   "outputs": [],
   "source": []
  },
  {
   "cell_type": "code",
   "execution_count": null,
   "metadata": {
    "collapsed": true
   },
   "outputs": [],
   "source": []
  }
 ],
 "metadata": {
  "kernelspec": {
   "display_name": "Python 2",
   "language": "python",
   "name": "python2"
  },
  "language_info": {
   "codemirror_mode": {
    "name": "ipython",
    "version": 2
   },
   "file_extension": ".py",
   "mimetype": "text/x-python",
   "name": "python",
   "nbconvert_exporter": "python",
   "pygments_lexer": "ipython2",
   "version": "2.7.13"
  }
 },
 "nbformat": 4,
 "nbformat_minor": 2
}

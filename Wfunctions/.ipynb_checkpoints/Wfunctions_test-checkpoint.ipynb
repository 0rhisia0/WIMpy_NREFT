{
 "cells": [
  {
   "cell_type": "code",
   "execution_count": 1,
   "metadata": {
    "collapsed": true
   },
   "outputs": [],
   "source": [
    "import numpy as np\n",
    "from matplotlib import pylab as pl"
   ]
  },
  {
   "cell_type": "code",
   "execution_count": 2,
   "metadata": {
    "collapsed": true
   },
   "outputs": [],
   "source": [
    "import WD\n",
    "import WM\n",
    "import WMP2\n",
    "import WP1\n",
    "import WP2\n",
    "import WS1\n",
    "import WS2\n",
    "import WS1D"
   ]
  },
  {
   "cell_type": "code",
   "execution_count": 3,
   "metadata": {},
   "outputs": [
    {
     "name": "stdout",
     "output_type": "stream",
     "text": [
      "This module 'WD' is auto-generated with f2py (version:2).\n",
      "Functions:\n",
      "  wd = calcwd(i,j,y,target)\n",
      ".\n"
     ]
    }
   ],
   "source": [
    "print WD.__doc__"
   ]
  },
  {
   "cell_type": "code",
   "execution_count": 4,
   "metadata": {},
   "outputs": [
    {
     "name": "stdout",
     "output_type": "stream",
     "text": [
      "0.00101607560646\n",
      "0.915474534035\n",
      "0.174012035131\n",
      "9.44748279608e-10\n",
      "0.0331197045743\n",
      "0.000788004428614\n",
      "0.00235111522488\n",
      "-0.000667707354296\n"
     ]
    }
   ],
   "source": [
    "print WD.calcwd(0.1,0.1,1.0,'Xe131')\n",
    "print WM.calcwm(0.1,0.1,1.0,'Xe131')\n",
    "print WMP2.calcwmp2(0.1,0.1,1.0,'Xe131')\n",
    "print WP1.calcwp1(0.1,0.1,1.0,'Xe131')\n",
    "print WP2.calcwp2(0.1,0.1,1.0,'Xe131')\n",
    "print WS1.calcws1(0.1,0.1,1.0,'Xe131')\n",
    "print WS2.calcws2(0.1,0.1,1.0,'Xe131')\n",
    "print WS1D.calcws1d(0.1,0.1,1.0,'Xe131')"
   ]
  },
  {
   "cell_type": "code",
   "execution_count": 6,
   "metadata": {},
   "outputs": [
    {
     "ename": "AttributeError",
     "evalue": "'module' object has no attribute 'calcwd'",
     "output_type": "error",
     "traceback": [
      "\u001b[0;31m---------------------------------------------------------------------------\u001b[0m",
      "\u001b[0;31mAttributeError\u001b[0m                            Traceback (most recent call last)",
      "\u001b[0;32m<ipython-input-6-39342658ce2b>\u001b[0m in \u001b[0;36m<module>\u001b[0;34m()\u001b[0m\n\u001b[1;32m      3\u001b[0m \u001b[0mpl\u001b[0m\u001b[0;34m.\u001b[0m\u001b[0mfigure\u001b[0m\u001b[0;34m(\u001b[0m\u001b[0;34m)\u001b[0m\u001b[0;34m\u001b[0m\u001b[0m\n\u001b[1;32m      4\u001b[0m \u001b[0mpl\u001b[0m\u001b[0;34m.\u001b[0m\u001b[0mplot\u001b[0m\u001b[0;34m(\u001b[0m\u001b[0myvals\u001b[0m\u001b[0;34m,\u001b[0m \u001b[0mnp\u001b[0m\u001b[0;34m.\u001b[0m\u001b[0mvectorize\u001b[0m\u001b[0;34m(\u001b[0m\u001b[0mWD\u001b[0m\u001b[0;34m.\u001b[0m\u001b[0mcalcwd\u001b[0m\u001b[0;34m)\u001b[0m\u001b[0;34m(\u001b[0m\u001b[0;36m0.1\u001b[0m\u001b[0;34m,\u001b[0m\u001b[0;36m0.1\u001b[0m\u001b[0;34m,\u001b[0m\u001b[0myvals\u001b[0m\u001b[0;34m,\u001b[0m\u001b[0;34m'Xe131'\u001b[0m\u001b[0;34m)\u001b[0m\u001b[0;34m)\u001b[0m\u001b[0;34m\u001b[0m\u001b[0m\n\u001b[0;32m----> 5\u001b[0;31m \u001b[0mpl\u001b[0m\u001b[0;34m.\u001b[0m\u001b[0mplot\u001b[0m\u001b[0;34m(\u001b[0m\u001b[0myvals\u001b[0m\u001b[0;34m,\u001b[0m \u001b[0mnp\u001b[0m\u001b[0;34m.\u001b[0m\u001b[0mvectorize\u001b[0m\u001b[0;34m(\u001b[0m\u001b[0mWM\u001b[0m\u001b[0;34m.\u001b[0m\u001b[0mcalcwd\u001b[0m\u001b[0;34m)\u001b[0m\u001b[0;34m(\u001b[0m\u001b[0;36m0.1\u001b[0m\u001b[0;34m,\u001b[0m\u001b[0;36m0.1\u001b[0m\u001b[0;34m,\u001b[0m\u001b[0myvals\u001b[0m\u001b[0;34m,\u001b[0m\u001b[0;34m'Xe131'\u001b[0m\u001b[0;34m)\u001b[0m\u001b[0;34m)\u001b[0m\u001b[0;34m\u001b[0m\u001b[0m\n\u001b[0m\u001b[1;32m      6\u001b[0m \u001b[0mpl\u001b[0m\u001b[0;34m.\u001b[0m\u001b[0mplot\u001b[0m\u001b[0;34m(\u001b[0m\u001b[0myvals\u001b[0m\u001b[0;34m,\u001b[0m \u001b[0mnp\u001b[0m\u001b[0;34m.\u001b[0m\u001b[0mvectorize\u001b[0m\u001b[0;34m(\u001b[0m\u001b[0mWMP2\u001b[0m\u001b[0;34m.\u001b[0m\u001b[0mcalcwd\u001b[0m\u001b[0;34m)\u001b[0m\u001b[0;34m(\u001b[0m\u001b[0;36m0.1\u001b[0m\u001b[0;34m,\u001b[0m\u001b[0;36m0.1\u001b[0m\u001b[0;34m,\u001b[0m\u001b[0myvals\u001b[0m\u001b[0;34m,\u001b[0m\u001b[0;34m'Xe131'\u001b[0m\u001b[0;34m)\u001b[0m\u001b[0;34m)\u001b[0m\u001b[0;34m\u001b[0m\u001b[0m\n\u001b[1;32m      7\u001b[0m \u001b[0mpl\u001b[0m\u001b[0;34m.\u001b[0m\u001b[0mplot\u001b[0m\u001b[0;34m(\u001b[0m\u001b[0myvals\u001b[0m\u001b[0;34m,\u001b[0m \u001b[0mnp\u001b[0m\u001b[0;34m.\u001b[0m\u001b[0mvectorize\u001b[0m\u001b[0;34m(\u001b[0m\u001b[0mWP1\u001b[0m\u001b[0;34m.\u001b[0m\u001b[0mcalcwd\u001b[0m\u001b[0;34m)\u001b[0m\u001b[0;34m(\u001b[0m\u001b[0;36m0.1\u001b[0m\u001b[0;34m,\u001b[0m\u001b[0;36m0.1\u001b[0m\u001b[0;34m,\u001b[0m\u001b[0myvals\u001b[0m\u001b[0;34m,\u001b[0m\u001b[0;34m'Xe131'\u001b[0m\u001b[0;34m)\u001b[0m\u001b[0;34m)\u001b[0m\u001b[0;34m\u001b[0m\u001b[0m\n",
      "\u001b[0;31mAttributeError\u001b[0m: 'module' object has no attribute 'calcwd'"
     ]
    }
   ],
   "source": [
    "yvals = np.linspace(0, 2,100)\n",
    "\n",
    "pl.figure()\n",
    "pl.plot(yvals, np.vectorize(WD.calcwd)(0.1,0.1,yvals,'Xe131'))\n",
    "pl.plot(yvals, np.vectorize(WM.calcwm)(0.1,0.1,yvals,'Xe131'))\n",
    "pl.plot(yvals, np.vectorize(WMP2.calcwmp2)(0.1,0.1,yvals,'Xe131'))\n",
    "pl.plot(yvals, np.vectorize(WP1.calcwd)(0.1,0.1,yvals,'Xe131'))\n",
    "pl.plot(yvals, np.vectorize(WP2.calcwd)(0.1,0.1,yvals,'Xe131'))\n",
    "pl.plot(yvals, np.vectorize(WS1.calcwd)(0.1,0.1,yvals,'Xe131'))\n",
    "pl.plot(yvals, np.vectorize(WS2.calcwd)(0.1,0.1,yvals,'Xe131'))\n",
    "pl.plot(yvals, np.vectorize(WS1D.calcwd)(0.1,0.1,yvals,'Xe131'))\n",
    "pl.show()"
   ]
  },
  {
   "cell_type": "code",
   "execution_count": null,
   "metadata": {
    "collapsed": true
   },
   "outputs": [],
   "source": []
  },
  {
   "cell_type": "code",
   "execution_count": null,
   "metadata": {
    "collapsed": true
   },
   "outputs": [],
   "source": []
  }
 ],
 "metadata": {
  "kernelspec": {
   "display_name": "Python 2",
   "language": "python",
   "name": "python2"
  },
  "language_info": {
   "codemirror_mode": {
    "name": "ipython",
    "version": 2
   },
   "file_extension": ".py",
   "mimetype": "text/x-python",
   "name": "python",
   "nbconvert_exporter": "python",
   "pygments_lexer": "ipython2",
   "version": "2.7.13"
  }
 },
 "nbformat": 4,
 "nbformat_minor": 2
}

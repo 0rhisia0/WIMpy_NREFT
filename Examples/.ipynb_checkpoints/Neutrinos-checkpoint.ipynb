{
 "cells": [
  {
   "cell_type": "markdown",
   "metadata": {},
   "source": [
    "# Coherent Neutrino Spectra in WIMpy_NREFT\n",
    "\n",
    "**Reference**: the neutrino spectra are taken from the left panel of Fig. 1 in [arXiv:1604.03858](https://arxiv.org/abs/1604.03858).\n",
    "\n",
    "First we'll load `WIMpy` and a bunch of other libraries:"
   ]
  },
  {
   "cell_type": "code",
   "execution_count": 1,
   "metadata": {},
   "outputs": [],
   "source": [
    "from WIMpy import DMUtils as DMU\n",
    "\n",
    "#We'll also import some useful libraries\n",
    "import numpy as np\n",
    "import matplotlib.pyplot as plt\n",
    "\n",
    "import matplotlib as mpl\n",
    "\n",
    "mpl.rcParams.update({'font.size': 18,'font.family':'serif'})\n",
    "mpl.rcParams['xtick.major.size'] = 5\n",
    "mpl.rcParams['xtick.major.width'] = 1\n",
    "mpl.rcParams['xtick.minor.size'] = 3\n",
    "mpl.rcParams['xtick.minor.width'] = 1\n",
    "mpl.rcParams['ytick.major.size'] = 5\n",
    "mpl.rcParams['ytick.major.width'] = 1\n",
    "mpl.rcParams['ytick.minor.size'] = 3\n",
    "mpl.rcParams['ytick.minor.width'] = 1\n",
    "mpl.rc('text', usetex=True)\n",
    "\n",
    "mpl.rcParams['xtick.direction'] = 'in'\n",
    "mpl.rcParams['ytick.direction'] = 'in'\n",
    "mpl.rcParams['xtick.top'] = True\n",
    "mpl.rcParams['ytick.right'] = True\n",
    "\n",
    "from tqdm import tqdm\n",
    "\n",
    "from scipy.interpolate import interp1d"
   ]
  },
  {
   "cell_type": "markdown",
   "metadata": {},
   "source": [
    "### Initialisation\n",
    "\n",
    "First, we need to load the neutrino fluxes from file. This loads them in as interpolation functions."
   ]
  },
  {
   "cell_type": "code",
   "execution_count": 2,
   "metadata": {},
   "outputs": [
    {
     "ename": "AttributeError",
     "evalue": "'module' object has no attribute 'loadNeutrinoFlux'",
     "output_type": "error",
     "traceback": [
      "\u001b[0;31m---------------------------------------------------------------------------\u001b[0m",
      "\u001b[0;31mAttributeError\u001b[0m                            Traceback (most recent call last)",
      "\u001b[0;32m<ipython-input-2-34a080d48464>\u001b[0m in \u001b[0;36m<module>\u001b[0;34m()\u001b[0m\n\u001b[0;32m----> 1\u001b[0;31m \u001b[0mDMU\u001b[0m\u001b[0;34m.\u001b[0m\u001b[0mloadNeutrinoFlux\u001b[0m\u001b[0;34m(\u001b[0m\u001b[0;34m)\u001b[0m\u001b[0;34m\u001b[0m\u001b[0m\n\u001b[0m",
      "\u001b[0;31mAttributeError\u001b[0m: 'module' object has no attribute 'loadNeutrinoFlux'"
     ]
    }
   ],
   "source": [
    "DMU.loadNeutrinoFlux()"
   ]
  },
  {
   "cell_type": "markdown",
   "metadata": {},
   "source": [
    "### Plotting the neutrino fluxes"
   ]
  },
  {
   "cell_type": "code",
   "execution_count": null,
   "metadata": {},
   "outputs": [],
   "source": [
    "plt.figure(figsize=(7,5))\n",
    "\n",
    "for flux_name in [\"8B\", \"hep\", \"atm\", \"DSNB\"]:\n",
    "    fluxID = DMU.nu_source_list[flux_name] #This is a dictionary converting between the name of the flux and the index of the interpolation function\n",
    "    Elist = np.logspace(np.log10(DMU.Enu_min[fluxID]), np.log10(DMU.Enu_max[fluxID]), 100) #The code also stores the min and max neutrino energies for each flux\n",
    "    plt.loglog(Elist, DMU.neutrino_flux_list[fluxID](Elist), label=flux_name)\n",
    "\n",
    "plt.legend()\n",
    "\n",
    "plt.xlabel(r\"Neutrino Energy [MeV]\")\n",
    "plt.ylabel(r\"Neutrino Flux [cm$^{-2}$ s$^{-1}$ MeV$^{-1}$]\")\n",
    "\n",
    "plt.show()"
   ]
  },
  {
   "cell_type": "markdown",
   "metadata": {},
   "source": [
    "### Plotting the neutrino spectra on Xenon\n",
    "\n",
    "To calculate the CEvNS spectrum, we call `dRdE_CEvNS` and specify the `flux_name` keyword depending on which source of neutrinos we're interested in. The options are:\n",
    "\n",
    "\"8B\", \"hep\", \"atm\", \"DSNB\"\n",
    "\n",
    "which should hopefully be self-explanatory. If they're not, I'll do the explanating.\n",
    "\n",
    "We can also call `dRdE_CEvNS` with the option `flux_name=\"all\"`, which just calls `dRdE_CEvNS` recursively, summing over all 4 neutrino flux types.\n",
    "\n",
    "First we'll calculate the spectrum in 1/(kg day):"
   ]
  },
  {
   "cell_type": "code",
   "execution_count": null,
   "metadata": {},
   "outputs": [],
   "source": [
    "N_p_Xe = 54.\n",
    "N_n_Xe = 131. - 54.\n",
    "\n",
    "plt.figure(figsize=(7,5))\n",
    "\n",
    "ER_list = np.logspace(-1, 2,100)\n",
    "\n",
    "for flux_name in [\"8B\", \"hep\", \"atm\", \"DSNB\"]:\n",
    "    plt.loglog(ER_list, np.vectorize(DMU.dRdE_CEvNS)(ER_list, N_p_Xe, N_n_Xe, flux_name=flux_name), label=flux_name)\n",
    "\n",
    "plt.loglog(ER_list, np.vectorize(DMU.dRdE_CEvNS)(ER_list, N_p_Xe, N_n_Xe, flux_name=\"all\"), label=\"Total\", color='k', linestyle='--', alpha=0.75)\n",
    "    \n",
    "plt.legend()\n",
    "\n",
    "plt.xlabel(r\"Recoil Energy [keV]\")\n",
    "plt.ylabel(r\"Recoil spectrum [kg$^{-1}$ keV$^{-1}$ day$^{-1}$]\")\n",
    "\n",
    "plt.ylim(1e-10, 1e-2)\n",
    "\n",
    "plt.show()"
   ]
  },
  {
   "cell_type": "markdown",
   "metadata": {},
   "source": [
    "Now we'll do it 1/(ton-year), for comparison with the right panel of Fig. 1 in [arXiv:1604.03858](https://arxiv.org/abs/1604.03858). Looks like they agree to me!"
   ]
  },
  {
   "cell_type": "code",
   "execution_count": null,
   "metadata": {},
   "outputs": [],
   "source": [
    "A_Xe = 131.\n",
    "Z_Xe = 54.\n",
    "\n",
    "plt.figure(figsize=(7,5))\n",
    "\n",
    "ER_list = np.logspace(-3, 2,200)\n",
    "\n",
    "for flux_name in [\"8B\", \"hep\", \"atm\", \"DSNB\"]:\n",
    "    plt.loglog(ER_list, 365*1e3*np.vectorize(DMU.dRdE_CEvNS)(ER_list, N_p_Xe, N_n_Xe, flux_name=flux_name), label=flux_name)\n",
    "\n",
    "plt.loglog(ER_list, 365*1e3*np.vectorize(DMU.dRdE_CEvNS)(ER_list, N_p_Xe, N_n_Xe, flux_name=\"all\"), label=\"Total\", color='k', linestyle='--', alpha=0.75)\n",
    "    \n",
    "plt.legend()\n",
    "\n",
    "plt.xlabel(r\"Recoil Energy [keV]\")\n",
    "plt.ylabel(r\"Recoil spectrum [kev$^{-1}$ ton$^{-1}$ year$^{-1}$]\")\n",
    "\n",
    "plt.ylim(1e-5, 1e8)\n",
    "\n",
    "plt.show()"
   ]
  },
  {
   "cell_type": "markdown",
   "metadata": {},
   "source": [
    "Here, we're including the most relevant neutrino fluxes for recoils down to $\\mathcal{O}(100 \\,\\mathrm{eV})$, if we go any lower in energy then we have to worry about other sources.\n",
    "\n",
    "Note also that these fluxes have used the benchmark normalisation of Fig. 1 in [arXiv:1604.03858](https://arxiv.org/abs/1604.03858). Each different flux has a systematic uncertainty. A good summary can be found in Table 1 of [arXiv:1604.03858](https://arxiv.org/abs/1604.03858). Thanks again Ciaran.\n",
    "\n",
    "So the Boron-8 flux has an uncertainty of about 2.5%, while the atmospheric flux has an uncertainty of about 20%. This is why we treat all the fluxes separately."
   ]
  },
  {
   "cell_type": "code",
   "execution_count": null,
   "metadata": {},
   "outputs": [],
   "source": []
  },
  {
   "cell_type": "code",
   "execution_count": null,
   "metadata": {},
   "outputs": [],
   "source": []
  }
 ],
 "metadata": {
  "kernelspec": {
   "display_name": "Python 2",
   "language": "python",
   "name": "python2"
  },
  "language_info": {
   "codemirror_mode": {
    "name": "ipython",
    "version": 2
   },
   "file_extension": ".py",
   "mimetype": "text/x-python",
   "name": "python",
   "nbconvert_exporter": "python",
   "pygments_lexer": "ipython2",
   "version": "2.7.14"
  }
 },
 "nbformat": 4,
 "nbformat_minor": 2
}
